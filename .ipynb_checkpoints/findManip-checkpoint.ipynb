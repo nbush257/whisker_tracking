{
 "metadata": {
  "name": "",
  "signature": "sha256:3602bbe29c873711ab8744bd9ec0bd78a5d215b66e2d733eb65bb8d9d40f14e7"
 },
 "nbformat": 3,
 "nbformat_minor": 0,
 "worksheets": [
  {
   "cells": [
    {
     "cell_type": "code",
     "collapsed": false,
     "input": [
      "import pims\n",
      "import numpy as np \n",
      "import matplotlib.pyplot as plt\n",
      "from skimage.transform import (hough_line, hough_line_peaks,probabilistic_hough_line)\n",
      "from skimage.filter import canny\n",
      "from skimage.draw import circle\n",
      "\n",
      "fname = 'N:\\\\3dTesting\\\\rat2015_15_JUN11_VG_B1_t01_Front.seq'\n",
      "\n",
      "fid = pims.open(fname)\n",
      "\n",
      "fStart = 10000\n",
      "nFrames = fid.header_dict['allocated_frames']\n",
      "ht = fid.height\n",
      "wd = fid.width\n",
      "print(ht,wd,nFrames)\n"
     ],
     "language": "python",
     "metadata": {},
     "outputs": [
      {
       "output_type": "stream",
       "stream": "stdout",
       "text": [
        "(480, 640, 237762)\n"
       ]
      }
     ],
     "prompt_number": 1
    },
    {
     "cell_type": "code",
     "collapsed": false,
     "input": [
      "firstIm = fid.get_frame(fStart)"
     ],
     "language": "python",
     "metadata": {},
     "outputs": [],
     "prompt_number": 2
    },
    {
     "cell_type": "code",
     "collapsed": false,
     "input": [
      "def manualTrack(image,bckMean,plotTGL = 1):\n",
      " \n",
      "    plt.imshow(image,cmap = 'gray')\n",
      "    rows, cols = image.shape\n",
      "    plt.title('Click on the manipulator')\n",
      "    manip = np.asarray(plt.ginput(1))\n",
      "    roiRow,roiCol = circle(manip[0,1],manip[0,0],30)\n",
      "    imROI = 255*np.ones_like(image)\n",
      "    imROI[roiRow,roiCol]=image[roiRow,roiCol]\n",
      "    BW = imROI<(bckMean-50)\n",
      "    plt.draw()\n",
      "        \n",
      "    h,theta,d = hough_line(BW)\n",
      "    _,thetaInit, d = hough_line_peaks(h, theta, d,min_distance=1,num_peaks=2)\n",
      "    \n",
      "    y0 = (d - 0 * np.cos(thetaInit)) / np.sin(thetaInit)\n",
      "    y1 = (d - cols * np.cos(thetaInit)) / np.sin(thetaInit)\n",
      "    if plotTGL:\n",
      "        plt.plot((0,cols),(y0,y1),'-r')\n",
      "        plt.axis([0,640,0,480])\n",
      "        plt.draw()\n",
      "        plt.close('all')\n",
      "\n",
      "    thetaInit = np.mean(thetaInit)\n",
      "    return y0,y1,thetaInit"
     ],
     "language": "python",
     "metadata": {},
     "outputs": [],
     "prompt_number": 10
    },
    {
     "cell_type": "code",
     "collapsed": false,
     "input": [
      "def getBckgd(image):\n",
      "    # get background measure\n",
      "    # improve to be one click\n",
      "    plt.imshow(image,cmap = 'gray')\n",
      "    plt.title('Click on background near manip')\n",
      "    bckgd = np.asarray(plt.ginput(1))\n",
      "         \n",
      "    plt.draw()\n",
      "    bckgdR,bckgdC = circle(bckgd[0,1],bckgd[0,0],5)\n",
      "    bckMean = np.mean(image[bckgdR,bckgdC])\n",
      "    plt.close('all')\n",
      "    return bckMean"
     ],
     "language": "python",
     "metadata": {},
     "outputs": [],
     "prompt_number": 4
    },
    {
     "cell_type": "code",
     "collapsed": false,
     "input": [
      "def manipExtract(image,thetaInit):\n",
      "    edge = canny(image)\n",
      "    h,theta,d = hough_line(edge,theta = np.arange(thetaInit-.3,thetaInit+.3,.05))\n",
      "    plt.imshow(image,cmap = 'gray')\n",
      "    rows, cols = image.shape\n",
      "    idx = 0\n",
      "    y0 = np.zeros([2])\n",
      "    y1 = np.zeros([2])\n",
      "    thetaOut = np.zeros([2])\n",
      "    for _, angle, dist in zip(*hough_line_peaks(h, theta, d,min_distance=2,num_peaks=2)):\n",
      "        y0[idx] = (dist - 0 * np.cos(angle)) / np.sin(angle)\n",
      "        y1[idx] = (dist - cols * np.cos(angle)) / np.sin(angle)\n",
      "        thetaOut[idx] = angle\n",
      "        idx+=1\n",
      "    \n",
      "    # give better ouptuts    \n",
      "    return y0,y1,thetaOut"
     ],
     "language": "python",
     "metadata": {},
     "outputs": [],
     "prompt_number": 6
    },
    {
     "cell_type": "code",
     "collapsed": false,
     "input": [
      "def getBW(y0,y1,image):\n",
      "    from skimage.draw import polygon\n",
      "    from skimage.morphology import dilation,disk\n",
      "    from time import time\n",
      "    rows, cols = image.shape\n",
      "    '''\n",
      "        t1 = time()\n",
      "        rr,cc = polygon(np.array([y0[0],y0[1],y1[0],y1[1]]),np.array([0,0,cols,cols]),(rows,cols))\n",
      "\n",
      "        imROI = np.zeros_like(image,dtype = 'bool')\n",
      "        imROI[rr,cc]= 1\n",
      "\n",
      "        selem = disk(8)\n",
      "        BW = dilation(imROI,selem)\n",
      "        BW = BW.astype('bool')\n",
      "\n",
      "        imROI2 = 255*np.ones_like(image)\n",
      "        imROI2[BW]=image[BW]\n",
      "        t2 = time()\n",
      "        print \"%.5f\" % (t2-t1)\n",
      "     '''\n",
      "\n",
      "\n",
      "    #faster version?\n",
      "#     t1 = time()\n",
      "    rr,cc = polygon(np.array([y0[0],y0[1],y1[0],y1[1]]),np.array([0,0,cols-5,cols+5]),(rows,cols))\n",
      "    BW = np.zeros_like(image,dtype = 'bool')\n",
      "    BW[rr,cc]= 1\n",
      "    imROI = 255*np.ones_like(image)\n",
      "    imROI[BW] = image[BW]\n",
      "#     t2 = time()\n",
      "#     print \"%.5f\" % (t2-t1)\n",
      "    return imROI\n"
     ],
     "language": "python",
     "metadata": {},
     "outputs": [],
     "prompt_number": 11
    },
    {
     "cell_type": "code",
     "collapsed": false,
     "input": [
      "def sanityCheck(y0,y1,image):\n",
      "    plt.imshow(image,cmap = 'gray')\n",
      "    y0 = np.mean(y0)\n",
      "    y1 = np.mean(y1)\n",
      "    rows,cols = image.shape\n",
      "    plt.plot((0,cols),(y0,y1),'-r')\n",
      "    plt.axis([0,cols,0,rows])\n",
      "    plt.gca().invert_yaxis()\n",
      "    plt.draw()\n",
      "    "
     ],
     "language": "python",
     "metadata": {},
     "outputs": [],
     "prompt_number": 12
    },
    {
     "cell_type": "code",
     "collapsed": false,
     "input": [
      "b = getBckgd(firstIm)\n",
      "y0,y1,thetaInit= manualTrack(firstIm,b,plotTGL = 0)\n",
      "BW = getBW(y0,y1,firstIm)\n",
      "T = BW<(b-50)\n",
      "plt.imshow(BW,cmap = 'gray')\n",
      "plt.show()\n",
      "for ii in xrange(fStart,fStart+1000):\n",
      "    image = fid.get_frame(ii)\n",
      "    BW = getBW(y0,y1,image)\n",
      "    T = BW<(b-50)\n",
      "    y0,y1,th = manipExtract(image,thetaInit)    \n",
      "    sanityCheck(y0,y1,image)\n"
     ],
     "language": "python",
     "metadata": {},
     "outputs": [
      {
       "ename": "NameError",
       "evalue": "name 'image' is not defined",
       "output_type": "pyerr",
       "traceback": [
        "\u001b[1;31m---------------------------------------------------------------------------\u001b[0m\n\u001b[1;31mNameError\u001b[0m                                 Traceback (most recent call last)",
        "\u001b[1;32m<ipython-input-13-6bdf7b6bbc52>\u001b[0m in \u001b[0;36m<module>\u001b[1;34m()\u001b[0m\n\u001b[0;32m      9\u001b[0m     \u001b[0mT\u001b[0m \u001b[1;33m=\u001b[0m \u001b[0mBW\u001b[0m\u001b[1;33m<\u001b[0m\u001b[1;33m(\u001b[0m\u001b[0mb\u001b[0m\u001b[1;33m-\u001b[0m\u001b[1;36m50\u001b[0m\u001b[1;33m)\u001b[0m\u001b[1;33m\u001b[0m\u001b[0m\n\u001b[0;32m     10\u001b[0m     \u001b[0my0\u001b[0m\u001b[1;33m,\u001b[0m\u001b[0my1\u001b[0m\u001b[1;33m,\u001b[0m\u001b[0mth\u001b[0m \u001b[1;33m=\u001b[0m \u001b[0mmanipExtract\u001b[0m\u001b[1;33m(\u001b[0m\u001b[0mfirstIm\u001b[0m\u001b[1;33m,\u001b[0m\u001b[0mthetaInit\u001b[0m\u001b[1;33m)\u001b[0m\u001b[1;33m\u001b[0m\u001b[0m\n\u001b[1;32m---> 11\u001b[1;33m     \u001b[0msanityCheck\u001b[0m\u001b[1;33m(\u001b[0m\u001b[0my0\u001b[0m\u001b[1;33m,\u001b[0m\u001b[0my1\u001b[0m\u001b[1;33m,\u001b[0m\u001b[0mimage\u001b[0m\u001b[1;33m)\u001b[0m\u001b[1;33m\u001b[0m\u001b[0m\n\u001b[0m",
        "\u001b[1;31mNameError\u001b[0m: name 'image' is not defined"
       ]
      }
     ],
     "prompt_number": 13
    },
    {
     "cell_type": "code",
     "collapsed": false,
     "input": [],
     "language": "python",
     "metadata": {},
     "outputs": [
      {
       "metadata": {},
       "output_type": "pyout",
       "prompt_number": 224,
       "text": [
        "array([ 1686.03703144,  1707.48735399])"
       ]
      }
     ],
     "prompt_number": 224
    },
    {
     "cell_type": "code",
     "collapsed": false,
     "input": [],
     "language": "python",
     "metadata": {},
     "outputs": []
    }
   ],
   "metadata": {}
  }
 ]
}